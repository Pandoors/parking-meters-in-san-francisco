{
 "cells": [
  {
   "cell_type": "code",
   "execution_count": 1,
   "metadata": {
    "colab": {
     "base_uri": "https://localhost:8080/"
    },
    "id": "1PaDyyOaonF-",
    "outputId": "f9cba429-d304-4e86-cf53-c67a82deb0c0"
   },
   "outputs": [],
   "source": [
    "# !pip install osmnx folium matplotlib mapclassify"
   ]
  },
  {
   "cell_type": "code",
   "execution_count": 2,
   "metadata": {
    "id": "8Jek5A6xohgF"
   },
   "outputs": [],
   "source": [
    "import osmnx as ox\n",
    "import pandas as pd\n",
    "import geopandas as gpd\n",
    "import math as m\n",
    "import numpy as np\n",
    "import traceback\n",
    "from shapely.geometry import LineString\n",
    "import matplotlib.pyplot as plt\n",
    "import folium\n",
    "import shapely\n",
    "import warnings\n",
    "import csv\n",
    "from shapely.errors import ShapelyDeprecationWarning\n",
    "warnings.filterwarnings(\"ignore\", category=ShapelyDeprecationWarning) \n",
    "warnings.simplefilter(action='ignore', category=FutureWarning)"
   ]
  },
  {
   "cell_type": "code",
   "execution_count": 3,
   "metadata": {
    "id": "eCAI0HKUo_4Y"
   },
   "outputs": [],
   "source": [
    "# Uncomment in case of not having osmnx tool\n",
    "#df = pd.read_csv('https://data.sfgov.org/api/views/8vzz-qzz9/rows.csv?accessType=DOWNLOAD') # read in the data and pickle \n",
    "#df.to_pickle('sf_data.pkl')"
   ]
  },
  {
   "cell_type": "code",
   "execution_count": 4,
   "metadata": {
    "id": "hTJP_NIQohgH"
   },
   "outputs": [],
   "source": [
    "# reading cleaned data in pickle\n",
    "df = pd.read_pickle('sf_data.pkl')"
   ]
  },
  {
   "cell_type": "markdown",
   "metadata": {},
   "source": [
    "### Making GeoDataFrame out of data and then casting it to san-franciscan coordinate system."
   ]
  },
  {
   "cell_type": "code",
   "execution_count": 5,
   "metadata": {
    "colab": {
     "base_uri": "https://localhost:8080/",
     "height": 283
    },
    "id": "EWQItMiGqKS5",
    "outputId": "4044446e-275c-4882-a532-6d61ba755e39"
   },
   "outputs": [
    {
     "data": {
      "text/plain": [
       "<AxesSubplot:>"
      ]
     },
     "execution_count": 5,
     "metadata": {},
     "output_type": "execute_result"
    },
    {
     "data": {
      "image/png": "[encoded data removed]",
      "text/plain": [
       "<Figure size 432x288 with 1 Axes>"
      ]
     },
     "metadata": {
      "needs_background": "light"
     },
     "output_type": "display_data"
    }
   ],
   "source": [
    "df.dtypes\n",
    "pmeters = gpd.GeoDataFrame(df, geometry=gpd.points_from_xy(df.LONGITUDE, df.LATITUDE))\n",
    "pmeters = pmeters.set_crs(epsg=4326)#EPSG:4326  - classical geographical latitude and longitude\n",
    "pmeters = pmeters.to_crs(7131)#project to coordinate system appropriate for San Francisco (found on: https://epsg.io/7131)\n",
    "pmeters.dtypes\n",
    "pmeters.plot()"
   ]
  },
  {
   "cell_type": "code",
   "execution_count": 6,
   "metadata": {
    "colab": {
     "base_uri": "https://localhost:8080/",
     "height": 870
    },
    "id": "4XgsJBX4M4i3",
    "outputId": "c089be75-1f14-46ff-b4e4-310ad07f351a"
   },
   "outputs": [
    {
     "data": {
      "text/html": [
       "<div>\n",
       "<style scoped>\n",
       "    .dataframe tbody tr th:only-of-type {\n",
       "        vertical-align: middle;\n",
       "    }\n",
       "\n",
       "    .dataframe tbody tr th {\n",
       "        vertical-align: top;\n",
       "    }\n",
       "\n",
       "    .dataframe thead th {\n",
       "        text-align: right;\n",
       "    }\n",
       "</style>\n",
       "<table border=\"1\" class=\"dataframe\">\n",
       "  <thead>\n",
       "    <tr style=\"text-align: right;\">\n",
       "      <th></th>\n",
       "      <th>OBJECTID</th>\n",
       "      <th>PARKING_SPACE_ID</th>\n",
       "      <th>POST_ID</th>\n",
       "      <th>MS_PAY_STATION_ID</th>\n",
       "      <th>MS_SPACE_NUM</th>\n",
       "      <th>SENSOR_FLAG</th>\n",
       "      <th>ON_OFFSTREET_TYPE</th>\n",
       "      <th>OSP_ID</th>\n",
       "      <th>JURISDICTION</th>\n",
       "      <th>PM_DISTRICT_ID</th>\n",
       "      <th>...</th>\n",
       "      <th>NFC_KEY</th>\n",
       "      <th>COLLECTION_ROUTE_DESC</th>\n",
       "      <th>COLLECTION_SUBROUTE_DESC</th>\n",
       "      <th>shape</th>\n",
       "      <th>Neighborhoods</th>\n",
       "      <th>SF Find Neighborhoods</th>\n",
       "      <th>Current Police Districts</th>\n",
       "      <th>Current Supervisor Districts</th>\n",
       "      <th>Analysis Neighborhoods</th>\n",
       "      <th>geometry</th>\n",
       "    </tr>\n",
       "  </thead>\n",
       "  <tbody>\n",
       "    <tr>\n",
       "      <th>0</th>\n",
       "      <td>5228201</td>\n",
       "      <td>101400</td>\n",
       "      <td>500-08020</td>\n",
       "      <td>-</td>\n",
       "      <td>0</td>\n",
       "      <td>N</td>\n",
       "      <td>ON</td>\n",
       "      <td>0</td>\n",
       "      <td>SFMTA</td>\n",
       "      <td>12</td>\n",
       "      <td>...</td>\n",
       "      <td>6325</td>\n",
       "      <td>_missing_</td>\n",
       "      <td>_missing_</td>\n",
       "      <td>POINT (-122.408394 37.79584)</td>\n",
       "      <td>104</td>\n",
       "      <td>104</td>\n",
       "      <td>6</td>\n",
       "      <td>3</td>\n",
       "      <td>6</td>\n",
       "      <td>POINT (-122.40841 37.79585)</td>\n",
       "    </tr>\n",
       "    <tr>\n",
       "      <th>1</th>\n",
       "      <td>5228280</td>\n",
       "      <td>102036</td>\n",
       "      <td>419-13290</td>\n",
       "      <td>-</td>\n",
       "      <td>0</td>\n",
       "      <td>N</td>\n",
       "      <td>ON</td>\n",
       "      <td>0</td>\n",
       "      <td>SFMTA</td>\n",
       "      <td>15</td>\n",
       "      <td>...</td>\n",
       "      <td>9EPC</td>\n",
       "      <td>Franklin St: Unit - 900</td>\n",
       "      <td>Franklin 1200-1500</td>\n",
       "      <td>POINT (-122.423454 37.7872)</td>\n",
       "      <td>100</td>\n",
       "      <td>100</td>\n",
       "      <td>4</td>\n",
       "      <td>6</td>\n",
       "      <td>39</td>\n",
       "      <td>POINT (-122.42347 37.78721)</td>\n",
       "    </tr>\n",
       "    <tr>\n",
       "      <th>2</th>\n",
       "      <td>5229090</td>\n",
       "      <td>109966</td>\n",
       "      <td>671-01050</td>\n",
       "      <td>671-01001</td>\n",
       "      <td>5</td>\n",
       "      <td>Y</td>\n",
       "      <td>ON</td>\n",
       "      <td>0</td>\n",
       "      <td>SFMTA</td>\n",
       "      <td>2</td>\n",
       "      <td>...</td>\n",
       "      <td>8JGP</td>\n",
       "      <td>_missing_</td>\n",
       "      <td>_missing_</td>\n",
       "      <td>POINT (-122.39461 37.780937)</td>\n",
       "      <td>31</td>\n",
       "      <td>31</td>\n",
       "      <td>1</td>\n",
       "      <td>10</td>\n",
       "      <td>8</td>\n",
       "      <td>POINT (-122.39462 37.78094)</td>\n",
       "    </tr>\n",
       "    <tr>\n",
       "      <th>3</th>\n",
       "      <td>5229183</td>\n",
       "      <td>104916</td>\n",
       "      <td>606-15400</td>\n",
       "      <td>-</td>\n",
       "      <td>0</td>\n",
       "      <td>N</td>\n",
       "      <td>ON</td>\n",
       "      <td>0</td>\n",
       "      <td>SFMTA</td>\n",
       "      <td>15</td>\n",
       "      <td>...</td>\n",
       "      <td>6X57</td>\n",
       "      <td>_missing_</td>\n",
       "      <td>_missing_</td>\n",
       "      <td>POINT (-122.42171 37.789528)</td>\n",
       "      <td>105</td>\n",
       "      <td>105</td>\n",
       "      <td>4</td>\n",
       "      <td>3</td>\n",
       "      <td>21</td>\n",
       "      <td>POINT (-122.42172 37.78953)</td>\n",
       "    </tr>\n",
       "    <tr>\n",
       "      <th>4</th>\n",
       "      <td>5229690</td>\n",
       "      <td>107918</td>\n",
       "      <td>418-06100</td>\n",
       "      <td>-</td>\n",
       "      <td>0</td>\n",
       "      <td>E</td>\n",
       "      <td>ON</td>\n",
       "      <td>0</td>\n",
       "      <td>SFMTA</td>\n",
       "      <td>2</td>\n",
       "      <td>...</td>\n",
       "      <td>3NBT</td>\n",
       "      <td>_missing_</td>\n",
       "      <td>_missing_</td>\n",
       "      <td>POINT (-122.397156 37.785294)</td>\n",
       "      <td>32</td>\n",
       "      <td>32</td>\n",
       "      <td>1</td>\n",
       "      <td>10</td>\n",
       "      <td>8</td>\n",
       "      <td>POINT (-122.39717 37.78530)</td>\n",
       "    </tr>\n",
       "  </tbody>\n",
       "</table>\n",
       "<p>5 rows × 41 columns</p>\n",
       "</div>"
      ],
      "text/plain": [
       "   OBJECTID  PARKING_SPACE_ID    POST_ID MS_PAY_STATION_ID  MS_SPACE_NUM  \\\n",
       "0   5228201            101400  500-08020                 -             0   \n",
       "1   5228280            102036  419-13290                 -             0   \n",
       "2   5229090            109966  671-01050         671-01001             5   \n",
       "3   5229183            104916  606-15400                 -             0   \n",
       "4   5229690            107918  418-06100                 -             0   \n",
       "\n",
       "  SENSOR_FLAG ON_OFFSTREET_TYPE  OSP_ID JURISDICTION  PM_DISTRICT_ID  ...  \\\n",
       "0           N                ON       0        SFMTA              12  ...   \n",
       "1           N                ON       0        SFMTA              15  ...   \n",
       "2           Y                ON       0        SFMTA               2  ...   \n",
       "3           N                ON       0        SFMTA              15  ...   \n",
       "4           E                ON       0        SFMTA               2  ...   \n",
       "\n",
       "   NFC_KEY    COLLECTION_ROUTE_DESC COLLECTION_SUBROUTE_DESC  \\\n",
       "0     6325                _missing_                _missing_   \n",
       "1     9EPC  Franklin St: Unit - 900       Franklin 1200-1500   \n",
       "2     8JGP                _missing_                _missing_   \n",
       "3     6X57                _missing_                _missing_   \n",
       "4     3NBT                _missing_                _missing_   \n",
       "\n",
       "                           shape Neighborhoods SF Find Neighborhoods  \\\n",
       "0   POINT (-122.408394 37.79584)           104                   104   \n",
       "1    POINT (-122.423454 37.7872)           100                   100   \n",
       "2   POINT (-122.39461 37.780937)            31                    31   \n",
       "3   POINT (-122.42171 37.789528)           105                   105   \n",
       "4  POINT (-122.397156 37.785294)            32                    32   \n",
       "\n",
       "  Current Police Districts Current Supervisor Districts  \\\n",
       "0                        6                            3   \n",
       "1                        4                            6   \n",
       "2                        1                           10   \n",
       "3                        4                            3   \n",
       "4                        1                           10   \n",
       "\n",
       "  Analysis Neighborhoods                     geometry  \n",
       "0                      6  POINT (-122.40841 37.79585)  \n",
       "1                     39  POINT (-122.42347 37.78721)  \n",
       "2                      8  POINT (-122.39462 37.78094)  \n",
       "3                     21  POINT (-122.42172 37.78953)  \n",
       "4                      8  POINT (-122.39717 37.78530)  \n",
       "\n",
       "[5 rows x 41 columns]"
      ]
     },
     "execution_count": 6,
     "metadata": {},
     "output_type": "execute_result"
    }
   ],
   "source": [
    "# Checking first couple of records\n",
    "df.head()"
   ]
  },
  {
   "cell_type": "code",
   "execution_count": 7,
   "metadata": {},
   "outputs": [],
   "source": [
    "# We decided"
   ]
  },
  {
   "cell_type": "markdown",
   "metadata": {},
   "source": [
    "### Function for splitting the dataset.\n",
    "We have decided that since raletion parking meter - waynode is strictly local, the dataset may be simply divided spatially into parts and then simple matching algorithm run effectively on these individual parts (tiles)."
   ]
  },
  {
   "cell_type": "code",
   "execution_count": 8,
   "metadata": {
    "id": "RzIa1EY3ohgK"
   },
   "outputs": [],
   "source": [
    "# constraints which determine the borders of map\n",
    "longitude_min, longitude_max, lattitude_min, lattitude_max  = df['LONGITUDE'].min(),  df['LONGITUDE'].max(), df['LATITUDE'].min(), df['LATITUDE'].max()\n",
    "def tilenum(lat, lon, root_num_tiles=10):\n",
    "    return m.floor((lat - lattitude_min) / (lattitude_max-lattitude_min) * root_num_tiles) + m.floor((lon - longitude_min) / (longitude_max-longitude_min) * root_num_tiles) * root_num_tiles\n"
   ]
  },
  {
   "cell_type": "code",
   "execution_count": 9,
   "metadata": {
    "id": "XY61MFfUohgL"
   },
   "outputs": [],
   "source": [
    "def get_tiles(df, root_num_tiles):\n",
    "    df['TILE'] = df.apply(lambda x: tilenum(x['LATITUDE'], x['LONGITUDE']), axis=1)\n",
    "    parts =  df.groupby('TILE')\n",
    "    return parts\n"
   ]
  },
  {
   "cell_type": "markdown",
   "metadata": {},
   "source": [
    "### Function for downloading graph of waynodes via osmnx.\n",
    "It uses graph_from_bbox and boundaries are in WGS84."
   ]
  },
  {
   "cell_type": "code",
   "execution_count": 10,
   "metadata": {
    "id": "9e1k7Xj2ohgM"
   },
   "outputs": [],
   "source": [
    "def get_waynodes_in_area_of(df):\n",
    "    longitude_min, longitude_max, lattitude_min, lattitude_max  = df['LONGITUDE'].min(),  df['LONGITUDE'].max(), df['LATITUDE'].min(), df['LATITUDE'].max()\n",
    "    print(\"BOUNDS:\",lattitude_max,lattitude_min,longitude_max,longitude_min)\n",
    "    G = ox.graph_from_bbox(lattitude_max,lattitude_min,longitude_max,longitude_min, network_type='drive', simplify=False, truncate_by_edge=True) # get the graph\n",
    "    print(\"number_of_nodes:\", G.number_of_nodes())\n",
    "    print(\"number_of_edges:\", G.number_of_edges())\n",
    "    return G\n"
   ]
  },
  {
   "cell_type": "markdown",
   "metadata": {},
   "source": [
    "### Interactive map.\n",
    "To conveniently view partial results, we have written this contraption. It shows an interactive map. Roads are red lines. Parking meters are green pins, clicking on which shows all columns for given device. Blue lines connect parking meter with a centroid of nearest segment (line between two waynodes). The map, when zoomed past certain point goes blank-gray. It is an effect of forcibly increasing max_zoom for folium map (to see be able to see those lines closely), it is a feature of library and it can't be circumvented (different image tiles would be needed). This code has no purpose apart from visualization in interactive use and is not essential (should it stop working due to some library problems)."
   ]
  },
  {
   "cell_type": "code",
   "execution_count": 11,
   "metadata": {
    "id": "CHiaia54R4hI"
   },
   "outputs": [],
   "source": [
    "def show_map_of_assignments(ret, orig_nodes, ways):\n",
    "  rv = ret\n",
    "  rv['geometry'] = rv['visual']\n",
    "  for id, row in rv.iterrows():\n",
    "    if row[\"PARKING_SPACE_ID\"] == 115402:\n",
    "      print(row[\"apart\"])\n",
    "      print(\"NODE 115402\")\n",
    "  rv.drop(columns=['visual'], inplace=True)\n",
    "  rv = rv.set_crs(epsg=7131)\n",
    "  rv = rv.to_crs(4326)\n",
    "  map = folium.Map([37.75,-122.39], zoom_start=12, max_zoom=30)\n",
    " \n",
    "  folium.Choropleth(\n",
    "    rv,#[rv.geometry.length>0.001],\n",
    "    line_weight=3,\n",
    "    line_color='blue'\n",
    "  ).add_to(map)\n",
    "  \n",
    "  \n",
    "  #above: https://anitagraser.com/2019/10/31/interactive-plots-for-geopandas-geodataframe-of-linestrings/\n",
    "  \n",
    "  #below: https://geopandas.org/en/stable/gallery/plotting_with_folium.html\n",
    "  df_deg = orig_nodes.set_crs(epsg=7131)\n",
    "  df_deg = df_deg.to_crs(4326)\n",
    "  geo_df_list = [([ row[1]['geometry'].xy[1][0], row[1]['geometry'].xy[0][0]], row[1].to_json(default_handler=str).replace(\",\",\"\\n\")) for row in df_deg.iterrows() ]\n",
    "  i = 0\n",
    "  for t in geo_df_list:\n",
    "    coordinates = t[0]\n",
    "    desc = t[1]\n",
    "    # Place the markers with the popup labels and data\n",
    "    map.add_child(folium.Marker(location = coordinates,\n",
    "                            popup = desc,\n",
    "                            icon = folium.Icon(color = \"green\") \n",
    "                            ))\n",
    "    i = i + 1\n",
    "  #3 - all ways\n",
    "  if ways is not None:\n",
    "    folium.Choropleth(\n",
    "      ways,#[rv.geometry.length>0.001],\n",
    "      line_weight=3,\n",
    "      line_color='red'\n",
    "    ).add_to(map)\n",
    "\n",
    "  display(map)\n"
   ]
  },
  {
   "cell_type": "markdown",
   "metadata": {},
   "source": [
    "## Main algorithm\n",
    "The crucial function is associate_waynodes. It performs association of parking meters to waynodes, using comparator-like function compare_parking_meter_with_waysegment and while getting appropriate osmnx data. It is oblivius to dataset division, which is performed by following function associate_while_splitting_dataset. Running associate_waynodes on whole datasets would be possible, but it would probably takes ages."
   ]
  },
  {
   "cell_type": "markdown",
   "metadata": {},
   "source": [
    "### Comparator-like function.\n",
    "It computes joined row along with metric signifying auality of a match."
   ]
  },
  {
   "cell_type": "code",
   "execution_count": 12,
   "metadata": {
    "id": "ggo1wRqAmitU"
   },
   "outputs": [],
   "source": [
    "def compare_parking_meter_with_waysegment(pmeter, way, nodes):#nodes of parking meters, representation of way segments, table of all individual nodes of streets\n",
    "  node1id = way.name[0]\n",
    "  node2id = way.name[1]\n",
    "  node1 = nodes.loc[node1id]\n",
    "  node2 = nodes.loc[node2id]\n",
    "  distance = pmeter['geometry'].distance(way['geometry'])\n",
    "  if distance < 30:#[m]\n",
    "    pmeter['street_osmid'], pmeter['node1_osmid'], pmeter['node2_osmid'] = way.osmid, node1id, node2id\n",
    "    \n",
    "    center = way['geometry'].centroid\n",
    "    pmeter['visual'] = LineString([center, pmeter['geometry']])\n",
    "    pmeter['apart'] = distance\n",
    "    metric = distance # determines how good an association is\n",
    "    return (metric, pmeter, center)"
   ]
  },
  {
   "cell_type": "markdown",
   "metadata": {},
   "source": [
    "### Main matching function.\n",
    " The parking meters are passed to it, it gets appropriate waynodes and performs a match. The algorithm is simple, crude even, but the use of double for is intentional. It allows for building a list of candidates, along with metric, provided by comparator-like function. Then the best match for each parking meter is chosen. Algorithm is general, with cmparing function swapped, it could be used for any kind of matching geospatial points to waynodes of OpenStreetMap.\n",
    " The output is appended to specified csv file (if it is empty, column names are written, otherwise not). It maens that, if association is done by parts and process is stopped, parial results will be saved."
   ]
  },
  {
   "cell_type": "code",
   "execution_count": 13,
   "metadata": {
    "id": "Z0cZP3qdgcPx"
   },
   "outputs": [],
   "source": [
    "\n",
    "from IPython.display import display\n",
    "import sys\n",
    "#main function of the algorithm\n",
    "def associate_waynodes(df, earlystop=sys.maxsize, showmap=False, csv_path=''):\n",
    "  ret = pd.DataFrame()\n",
    "  try:\n",
    "    G = get_waynodes_in_area_of(df)\n",
    "    nodes_edges = ox.utils_graph.graph_to_gdfs(G,nodes=True, edges=True)#, node_geometry=True, fill_edge_geometry=True) #https://osmnx.readthedocs.io/en/stable/osmnx.html#osmnx.utils_graph.graph_to_gdfs\n",
    "    nodes = nodes_edges[0]\n",
    "    ways = nodes_edges[1]\n",
    "    ways.rename(columns={\"name\": \"street_name\"}, inplace=True)#To avoid confusion with df.name (printed as Name)\n",
    "    ways = ways.to_crs(7131)\n",
    "    nodes = nodes.to_crs(7131)\n",
    "  except:\n",
    "    print(traceback.format_exc())\n",
    "    return ret\n",
    "\n",
    "  i=-1\n",
    "  for pointnum, point in df.iterrows():#iterate over points from first dataset\n",
    "    i +=1\n",
    "    if i > earlystop:\n",
    "      break#crude mechanism for early stopping not to wait half a minute every single time...\n",
    "    candidates = list()#accumulate candidates to be associated with given point\n",
    "    for waynum, way in ways.iterrows():#iterate over all nodes\n",
    "        r = compare_parking_meter_with_waysegment(point, way, nodes)#comparative function\n",
    "        if r is not None:\n",
    "          candidates.append(r)\n",
    "    if len(candidates) > 0:\n",
    "      candidates.sort(key=lambda x: x[0])#sort by metric provided by the comparator, to return the highest rated possibility\n",
    "      best_candidate = candidates[0]\n",
    "      for c in candidates:\n",
    "        if c[0] <= best_candidate[0]:\n",
    "          best_candidate = c\n",
    "       \n",
    "\n",
    "\n",
    "\n",
    "      best_candidate[1]['apart'] = best_candidate[0]\n",
    "      best_candidate[1]['visual'] = LineString([best_candidate[2], best_candidate[1]['geometry']])\n",
    "      #HERE MAY BE LOGIC FOR CHOOSING AMONG CANDIDATE SEGMENTS\n",
    "      ret = ret.append(best_candidate[1], ignore_index=True)#zeroth element of sorted list of tuples, which have rows on first position, contains now best match\n",
    "  ret = gpd.GeoDataFrame(ret)\n",
    "  if showmap:\n",
    "    show_map_of_assignments(ret, df, ways)\n",
    "    \n",
    "  #Saving (appending) to output file.\n",
    "  with open(csv_path, \"r\") as f:\n",
    "    f.seek(0,2)#go to the end of file\n",
    "    f_is_empty = (f.tell() == 0)#read position in file and determine if file is empty\n",
    "  ret.to_csv(csv_path,mode='a', header=f_is_empty)#append to file, if file is empty, write columns\n",
    "  return ret\n"
   ]
  },
  {
   "cell_type": "markdown",
   "metadata": {},
   "source": [
    "### Testing algorithm for one tile.\n",
    "As processing whole dataset takes a while (for me, more than two hours), we have written a simple helper function, which runs a process for only one tile, which takes half a minute, or seconds even, if earlystop parameter of associate_waynodes is utilised, which greatlyhelpedin developement of the script. It also shows the map. We have not attempted to show the map for a whole dataset, since 30k pins would certainly freeze javascript underneath the interactive map."
   ]
  },
  {
   "cell_type": "code",
   "execution_count": 14,
   "metadata": {
    "id": "ypUrIyf8n_iV"
   },
   "outputs": [],
   "source": [
    "def associate_for_one_tile(df, square_root_of_num_parts, tilenum):\n",
    "  with open('one_tile_df.csv', 'w+'):\n",
    "    pass  \n",
    "  parts = get_tiles(df, square_root_of_num_parts)\n",
    "  #print(parts)\n",
    "  res = associate_waynodes(parts.get_group(tilenum), showmap=True, csv_path='one_tile_df.csv')\n",
    "  \n",
    "  return res"
   ]
  },
  {
   "cell_type": "code",
   "execution_count": 15,
   "metadata": {
    "id": "2lpficYXoSIk"
   },
   "outputs": [],
   "source": [
    "#res = associate_for_one_tile(pmeters, 10, 6)#uncomment, if You wish to see the map. (Note: Not all tilenums exist, since there are tiles entirely filled with the sea.)"
   ]
  },
  {
   "cell_type": "markdown",
   "metadata": {},
   "source": [
    "### Wrapper function dispatching the main one on parts of the dataset\n",
    "It divides dataset. Parts are fed into associate_waynodes function and it can be observed as result file grows with time on disk. Some statistics are also printed. "
   ]
  },
  {
   "cell_type": "code",
   "execution_count": 16,
   "metadata": {
    "id": "Wo4H_mY6ohgN"
   },
   "outputs": [],
   "source": [
    "def associate_while_splitting_dataset(df, square_root_of_num_parts):\n",
    "  #result = pd.DataFrame()\n",
    "  with open('all_tiles_df.csv', 'w+'):\n",
    "    pass\n",
    "  sum_pts = 0\n",
    "  sum_assoc = 0\n",
    "  parts = get_tiles(df, square_root_of_num_parts)\n",
    "  for i, part in parts:\n",
    "    print(\"PART:\",i,\", size:\",part.shape[0])\n",
    "    partresult = associate_waynodes(part, csv_path='all_tiles_df.csv')\n",
    "    print(\"associated:\", partresult.shape[0])\n",
    "    sum_pts += part.shape[0]\n",
    "    sum_assoc += partresult.shape[0]\n",
    "    print(\"after\", i, \":\", sum_assoc, \"/\", sum_pts, \" (\", 100*sum_assoc/sum_pts,\"%)\")"
   ]
  },
  {
   "cell_type": "code",
   "execution_count": 18,
   "metadata": {
    "id": "f-hzxS5RgBbW"
   },
   "outputs": [],
   "source": [
    "associate_while_splitting_dataset(pmeters, 10)"
   ]
  },
  {
   "cell_type": "code",
   "execution_count": null,
   "metadata": {},
   "outputs": [],
   "source": []
  }
 ],
 "metadata": {
  "colab": {
   "collapsed_sections": [],
   "name": "Kopia notatnika finding-closest-segment.ipynb",
   "provenance": []
  },
  "kernelspec": {
   "display_name": "Python 3 (ipykernel)",
   "language": "python",
   "name": "python3"
  },
  "language_info": {
   "codemirror_mode": {
    "name": "ipython",
    "version": 3
   },
   "file_extension": ".py",
   "mimetype": "text/x-python",
   "name": "python",
   "nbconvert_exporter": "python",
   "pygments_lexer": "ipython3",
   "version": "3.10.4"
  },
  "vscode": {
   "interpreter": {
    "hash": "d757b25f3769e0ab58b4486d0329b3f5d0caf430888fc3d2def7363941ee4264"
   }
  }
 },
 "nbformat": 4,
 "nbformat_minor": 4
}
