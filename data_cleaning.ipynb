{
 "cells": [
  {
   "cell_type": "code",
   "execution_count": 90,
   "metadata": {},
   "outputs": [],
   "source": [
    "import pandas as pd \n",
    "import numpy as np\n",
    "import matplotlib.pyplot as plt\n"
   ]
  },
  {
   "cell_type": "code",
   "execution_count": 91,
   "metadata": {},
   "outputs": [],
   "source": [
    "df = pd.read_csv('https://data.sfgov.org/api/views/8vzz-qzz9/rows.csv?accessType=DOWNLOAD') "
   ]
  },
  {
   "cell_type": "markdown",
   "metadata": {},
   "source": [
    "criterias which must be fulfilled in order to be considered as a valid data cleaning step.\n",
    "* validity\n",
    "-- data type constraints \n",
    "-- minimum maximum values\n",
    "-- cannot be empty (should be filled, or should be removed)\n",
    "\n",
    "* accuracy\n",
    "-- how accurate is the data\n",
    "\n",
    "* completeness\n",
    "-- how complete is the data and what to do when it is not complete\n",
    "\n",
    "* consistency\n",
    "-- how the data is related to each other\n",
    "\n",
    "* uniformity\n",
    "-- how the data is related to the same data"
   ]
  },
  {
   "cell_type": "markdown",
   "metadata": {},
   "source": [
    "# description of data quality "
   ]
  },
  {
   "cell_type": "code",
   "execution_count": 92,
   "metadata": {},
   "outputs": [
    {
     "name": "stdout",
     "output_type": "stream",
     "text": [
      "OBJECTID                          int64\n",
      "PARKING_SPACE_ID                  int64\n",
      "MS_SPACE_NUM                      int64\n",
      "OSP_ID                          float64\n",
      "PM_DISTRICT_ID                  float64\n",
      "BLOCKFACE_ID                      int64\n",
      "STREET_ID                       float64\n",
      "STREET_NUM                      float64\n",
      "PARITY_DIGIT_POSITION             int64\n",
      "STREET_SEG_CTRLN_ID               int64\n",
      "ORIENTATION                     float64\n",
      "LONGITUDE                       float64\n",
      "LATITUDE                        float64\n",
      "LEGISLATION_DT                  float64\n",
      "SPT_CODE                        float64\n",
      "Neighborhoods                     int64\n",
      "SF Find Neighborhoods             int64\n",
      "Current Police Districts          int64\n",
      "Current Supervisor Districts      int64\n",
      "Analysis Neighborhoods            int64\n",
      "dtype: object\n"
     ]
    }
   ],
   "source": [
    "df_numeric = df.select_dtypes(include=[np.number])\n",
    "numeric_cols = df_numeric.columns.values\n",
    "print(df_numeric.dtypes)"
   ]
  },
  {
   "cell_type": "code",
   "execution_count": 93,
   "metadata": {},
   "outputs": [
    {
     "name": "stdout",
     "output_type": "stream",
     "text": [
      "OBJECTID - 0.0%\n",
      "PARKING_SPACE_ID - 0.0%\n",
      "POST_ID - 0.0%\n",
      "MS_PAY_STATION_ID - 0.0%\n",
      "MS_SPACE_NUM - 0.0%\n",
      "SENSOR_FLAG - 0.0%\n",
      "ON_OFFSTREET_TYPE - 0.0%\n",
      "OSP_ID - 0.174779%\n",
      "JURISDICTION - 0.0%\n",
      "PM_DISTRICT_ID - 0.002913%\n",
      "BLOCKFACE_ID - 0.0%\n",
      "ACTIVE_METER_FLAG - 0.0%\n",
      "REASON_CODE - 0.241778%\n",
      "SMART_METER_FLAG - 0.002913%\n",
      "METER_TYPE - 0.0%\n",
      "METER_VENDOR - 0.0%\n",
      "METER_MODEL - 0.0%\n",
      "CAP_COLOR - 0.0%\n",
      "PCO_BEAT - 0.0%\n",
      "OLD_RATE_AREA - 0.174779%\n",
      "STREET_ID - 0.171866%\n",
      "STREET_NAME - 0.002913%\n",
      "STREET_NUM - 0.011652%\n",
      "PARITY_DIGIT_POSITION - 0.0%\n",
      "STREET_SEG_CTRLN_ID - 0.0%\n",
      "ORIENTATION - 0.174779%\n",
      "LONGITUDE - 0.0%\n",
      "LATITUDE - 0.0%\n",
      "LEGISLATION_REF - 99.831047%\n",
      "LEGISLATION_DT - 99.985435%\n",
      "WORK_ORDER - 99.83396%\n",
      "COMMENTS - 83.75426%\n",
      "COLLECTION_ROUTE - 15.371843%\n",
      "COLLECTION_SUBROUTE - 15.371843%\n",
      "PMR_ROUTE - 0.002913%\n",
      "NFC_KEY - 6.405663%\n",
      "SPT_CODE - 100.0%\n",
      "COLLECTION_ROUTE_DESC - 20.731743%\n",
      "COLLECTION_SUBROUTE_DESC - 20.737569%\n",
      "shape - 0.0%\n",
      "Neighborhoods - 0.0%\n",
      "SF Find Neighborhoods - 0.0%\n",
      "Current Police Districts - 0.0%\n",
      "Current Supervisor Districts - 0.0%\n",
      "Analysis Neighborhoods - 0.0%\n"
     ]
    }
   ],
   "source": [
    "# Let's see how much data is missing\n",
    "for col in df.columns:\n",
    "    pct_missing = np.mean(df[col].isnull())\n",
    "    print('{} - {}%'.format(col, round(pct_missing*100,6)))"
   ]
  },
  {
   "cell_type": "code",
   "execution_count": 94,
   "metadata": {},
   "outputs": [
    {
     "name": "stdout",
     "output_type": "stream",
     "text": [
      "deleting column: LEGISLATION_REF\n",
      "deleting column: LEGISLATION_DT\n",
      "deleting column: WORK_ORDER\n",
      "deleting column: COMMENTS\n",
      "deleting column: SPT_CODE\n"
     ]
    }
   ],
   "source": [
    "#1. columns with more than 50% missing values are quite useless for our analysis, so we delete them\n",
    "for column in df.columns:\n",
    "    if np.mean(df[column].isnull()) > 0.5:\n",
    "        df.drop(column, axis=1, inplace=True)\n",
    "        print('deleting column: {}'.format(column))\n"
   ]
  },
  {
   "cell_type": "code",
   "execution_count": 95,
   "metadata": {},
   "outputs": [],
   "source": [
    "#2. when the categorical data is missing, we can just indicate that \n",
    "non_numeric_cols = df.select_dtypes(exclude=[np.number]).columns\n",
    "for column in non_numeric_cols:\n",
    "    df[column].fillna('_missing_', inplace=True)"
   ]
  },
  {
   "cell_type": "code",
   "execution_count": 96,
   "metadata": {},
   "outputs": [],
   "source": [
    "#3_0. we can delete or replace with median, we will se which method is better and see which data will be better suited for our analysis\n",
    "df2 = pd.DataFrame.dropna(df, axis=0, how='any', thresh=None, subset=None, inplace=False)"
   ]
  },
  {
   "cell_type": "code",
   "execution_count": 97,
   "metadata": {},
   "outputs": [],
   "source": [
    "#3_1. filling missing numeric values in numeric columns with mean\n",
    "numeric_cols = df.select_dtypes(include=[np.number]).columns\n",
    "for column in numeric_cols:\n",
    "    df[column].fillna(df[column].median(), inplace=True)"
   ]
  },
  {
   "cell_type": "code",
   "execution_count": 98,
   "metadata": {},
   "outputs": [],
   "source": [
    "# converting type to int whenever possible\n",
    "df['OSP_ID'] = df['OSP_ID'].astype(int)\n",
    "df[\"STREET_ID\"] = df[\"STREET_ID\"].astype(int)\n",
    "df[\"STREET_NUM\"] = df[\"STREET_NUM\"].astype(int)\n",
    "df[\"PM_DISTRICT_ID\"] = df[\"PM_DISTRICT_ID\"].astype(int)\n",
    "df[\"ORIENTATION\"] = df[\"ORIENTATION\"].astype(int)"
   ]
  },
  {
   "cell_type": "code",
   "execution_count": 99,
   "metadata": {},
   "outputs": [],
   "source": [
    "df.to_pickle('sf_data.pkl')"
   ]
  }
 ],
 "metadata": {
  "interpreter": {
   "hash": "62a727df985e3daf18bc9d1942c89ef5df65520a7e91f46a7d19652d0d54c774"
  },
  "kernelspec": {
   "display_name": "Python 3",
   "language": "python",
   "name": "python3"
  },
  "language_info": {
   "codemirror_mode": {
    "name": "ipython",
    "version": 3
   },
   "file_extension": ".py",
   "mimetype": "text/x-python",
   "name": "python",
   "nbconvert_exporter": "python",
   "pygments_lexer": "ipython3",
   "version": "3.8.3"
  }
 },
 "nbformat": 4,
 "nbformat_minor": 4
}
